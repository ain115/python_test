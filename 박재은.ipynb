{
  "nbformat": 4,
  "nbformat_minor": 0,
  "metadata": {
    "colab": {
      "name": "박재은.ipynb",
      "version": "0.3.2",
      "provenance": [],
      "collapsed_sections": [],
      "include_colab_link": true
    },
    "kernelspec": {
      "name": "python3",
      "display_name": "Python 3"
    }
  },
  "cells": [
    {
      "cell_type": "markdown",
      "metadata": {
        "id": "view-in-github",
        "colab_type": "text"
      },
      "source": [
        "<a href=\"https://colab.research.google.com/github/ain115/python_test/blob/master/%EB%B0%95%EC%9E%AC%EC%9D%80.ipynb\" target=\"_parent\"><img src=\"https://colab.research.google.com/assets/colab-badge.svg\" alt=\"Open In Colab\"/></a>"
      ]
    },
    {
      "cell_type": "markdown",
      "metadata": {
        "id": "67sR196wO4E9",
        "colab_type": "text"
      },
      "source": [
        "# 리스트"
      ]
    },
    {
      "cell_type": "markdown",
      "metadata": {
        "id": "Ee3MyG0zPoLA",
        "colab_type": "text"
      },
      "source": [
        "## 리스트란?\n",
        "리스트는 여러 값을 담을 수 있는 변수입니다."
      ]
    },
    {
      "cell_type": "markdown",
      "metadata": {
        "id": "6n32kqCHP4QX",
        "colab_type": "text"
      },
      "source": [
        "### 1. 리스트 만들기\n",
        "방법은 2가지"
      ]
    },
    {
      "cell_type": "markdown",
      "metadata": {
        "id": "zh_is7eqQNND",
        "colab_type": "text"
      },
      "source": [
        "#### 방법1"
      ]
    },
    {
      "cell_type": "code",
      "metadata": {
        "id": "P-XXe9qJQVHq",
        "colab_type": "code",
        "colab": {}
      },
      "source": [
        "# list1 이라는 빈 리스트를 만들어 보겠습니다.\n",
        "list1 = []"
      ],
      "execution_count": 0,
      "outputs": []
    },
    {
      "cell_type": "code",
      "metadata": {
        "id": "2HtMRchcQxu7",
        "colab_type": "code",
        "colab": {
          "base_uri": "https://localhost:8080/",
          "height": 34
        },
        "outputId": "f14ff2e3-6d14-4833-f20b-7c34559ee26c"
      },
      "source": [
        "print(list1)"
      ],
      "execution_count": 2,
      "outputs": [
        {
          "output_type": "stream",
          "text": [
            "[]\n"
          ],
          "name": "stdout"
        }
      ]
    },
    {
      "cell_type": "code",
      "metadata": {
        "id": "Yl6zWrZ9Q000",
        "colab_type": "code",
        "colab": {}
      },
      "source": [
        "# list2를 만들어보자. 1.'철수', True를 넣어서.\n",
        "list2 = [1, '철수', True]"
      ],
      "execution_count": 0,
      "outputs": []
    },
    {
      "cell_type": "code",
      "metadata": {
        "id": "jk0bqHoxRkvG",
        "colab_type": "code",
        "colab": {
          "base_uri": "https://localhost:8080/",
          "height": 34
        },
        "outputId": "cb23d185-5ce9-4738-ec18-3aa7f6dea2f4"
      },
      "source": [
        "print(list2)"
      ],
      "execution_count": 5,
      "outputs": [
        {
          "output_type": "stream",
          "text": [
            "[1, '철수', True]\n"
          ],
          "name": "stdout"
        }
      ]
    },
    {
      "cell_type": "markdown",
      "metadata": {
        "id": "dQ4QpYRrRv7A",
        "colab_type": "text"
      },
      "source": [
        "#### 방법2"
      ]
    },
    {
      "cell_type": "code",
      "metadata": {
        "id": "4q3L7wM2R3yf",
        "colab_type": "code",
        "colab": {}
      },
      "source": [
        "list3 = list()"
      ],
      "execution_count": 0,
      "outputs": []
    },
    {
      "cell_type": "code",
      "metadata": {
        "id": "wluXm8MXSEVN",
        "colab_type": "code",
        "colab": {
          "base_uri": "https://localhost:8080/",
          "height": 34
        },
        "outputId": "e3e712f6-f388-48dd-83e4-5f0297236731"
      },
      "source": [
        "print(list3)"
      ],
      "execution_count": 7,
      "outputs": [
        {
          "output_type": "stream",
          "text": [
            "[]\n"
          ],
          "name": "stdout"
        }
      ]
    },
    {
      "cell_type": "code",
      "metadata": {
        "id": "GvYKOVu7SGkp",
        "colab_type": "code",
        "colab": {}
      },
      "source": [
        "del list3"
      ],
      "execution_count": 0,
      "outputs": []
    },
    {
      "cell_type": "code",
      "metadata": {
        "id": "ViRBJAeCTOmG",
        "colab_type": "code",
        "colab": {
          "base_uri": "https://localhost:8080/",
          "height": 169
        },
        "outputId": "bc4d0ace-8630-49d4-cd76-9933ced90d89"
      },
      "source": [
        "print(list3)"
      ],
      "execution_count": 9,
      "outputs": [
        {
          "output_type": "error",
          "ename": "NameError",
          "evalue": "ignored",
          "traceback": [
            "\u001b[0;31m---------------------------------------------------------------------------\u001b[0m",
            "\u001b[0;31mNameError\u001b[0m                                 Traceback (most recent call last)",
            "\u001b[0;32m<ipython-input-9-f6e9505148c2>\u001b[0m in \u001b[0;36m<module>\u001b[0;34m()\u001b[0m\n\u001b[0;32m----> 1\u001b[0;31m \u001b[0mprint\u001b[0m\u001b[0;34m(\u001b[0m\u001b[0mlist3\u001b[0m\u001b[0;34m)\u001b[0m\u001b[0;34m\u001b[0m\u001b[0;34m\u001b[0m\u001b[0m\n\u001b[0m",
            "\u001b[0;31mNameError\u001b[0m: name 'list3' is not defined"
          ]
        }
      ]
    },
    {
      "cell_type": "code",
      "metadata": {
        "id": "ie3o-_4hTTv1",
        "colab_type": "code",
        "colab": {}
      },
      "source": [
        "list3 = list()"
      ],
      "execution_count": 0,
      "outputs": []
    },
    {
      "cell_type": "code",
      "metadata": {
        "id": "uGDSDHMdTX2O",
        "colab_type": "code",
        "colab": {
          "base_uri": "https://localhost:8080/",
          "height": 34
        },
        "outputId": "3dd8d993-05dc-4531-edf0-22901963a2d7"
      },
      "source": [
        "print(list3)"
      ],
      "execution_count": 11,
      "outputs": [
        {
          "output_type": "stream",
          "text": [
            "[]\n"
          ],
          "name": "stdout"
        }
      ]
    },
    {
      "cell_type": "code",
      "metadata": {
        "id": "SNQxc7GZTcEf",
        "colab_type": "code",
        "colab": {}
      },
      "source": [
        "# 1, '철수', True를 넣어서 list4를 만들어보세요\n",
        "list4 = list([1, '철수', True])"
      ],
      "execution_count": 0,
      "outputs": []
    },
    {
      "cell_type": "code",
      "metadata": {
        "id": "n_xkU_XlUdSv",
        "colab_type": "code",
        "colab": {}
      },
      "source": [
        ""
      ],
      "execution_count": 0,
      "outputs": []
    }
  ]
}